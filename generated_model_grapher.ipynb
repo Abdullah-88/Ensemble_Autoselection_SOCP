{
 "cells": [
  {
   "cell_type": "code",
   "execution_count": null,
   "id": "3def0e00",
   "metadata": {},
   "outputs": [],
   "source": [
    "# code to load and graph the output models\n",
    "import tensorflow as tf\n",
    "from tensorflow.keras.models import load_model"
   ]
  },
  {
   "cell_type": "code",
   "execution_count": null,
   "id": "1f1e0887",
   "metadata": {
    "scrolled": false
   },
   "outputs": [],
   "source": [
    "# specify the path and the model number to load and graph\n",
    "\n",
    "loaded_model = load_model(\"model_name\")\n",
    "loaded_model.summary()\n",
    "dot_img_file = '/path_to_graphs/graph_name.png'\n",
    "tf.keras.utils.plot_model(loaded_model, to_file=dot_img_file, show_shapes=True)"
   ]
  }
 ],
 "metadata": {
  "kernelspec": {
   "display_name": "ninformer",
   "language": "python",
   "name": "python3"
  },
  "language_info": {
   "codemirror_mode": {
    "name": "ipython",
    "version": 3
   },
   "file_extension": ".py",
   "mimetype": "text/x-python",
   "name": "python",
   "nbconvert_exporter": "python",
   "pygments_lexer": "ipython3",
   "version": "3.9.0"
  },
  "vscode": {
   "interpreter": {
    "hash": "6a2587502fa8d23364235c430508a7b3f040866912ea1b089451a150a69d2b7e"
   }
  }
 },
 "nbformat": 4,
 "nbformat_minor": 5
}
