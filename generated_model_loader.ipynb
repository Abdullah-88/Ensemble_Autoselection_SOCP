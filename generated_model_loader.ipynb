{
 "cells": [
  {
   "cell_type": "code",
   "execution_count": null,
   "id": "3def0e00",
   "metadata": {},
   "outputs": [],
   "source": [
    "# code to load a selected model and check performance\n",
    "import tensorflow as tf\n",
    "from tensorflow.keras.datasets import cifar10\n",
    "from tensorflow.keras.models import load_model"
   ]
  },
  {
   "cell_type": "code",
   "execution_count": null,
   "id": "6024e480",
   "metadata": {},
   "outputs": [],
   "source": [
    "(x_train, y_train), (x_test, y_test) = cifar10.load_data()\n",
    "print(x_train.shape)\n",
    "print(x_test.shape)\n",
    "print(y_train.shape)\n",
    "print(y_test.shape)"
   ]
  },
  {
   "cell_type": "code",
   "execution_count": null,
   "id": "2cdab30b",
   "metadata": {
    "scrolled": true
   },
   "outputs": [],
   "source": [
    "# chage to proper model name\n",
    "loaded_model = load_model(\"model_name\")\n",
    "loaded_model.summary()\n",
    "predicted_y = loaded_model.predict(tf.expand_dims(x_test, -1))\n",
    "print(predicted_y)\n"
   ]
  },
  {
   "cell_type": "code",
   "execution_count": null,
   "id": "da626c14",
   "metadata": {
    "scrolled": true
   },
   "outputs": [],
   "source": [
    "print(loaded_model.metrics_names)\n",
    "loaded_model.evaluate(x_test,y_test)"
   ]
  }
 ],
 "metadata": {
  "kernelspec": {
   "display_name": "ninformer",
   "language": "python",
   "name": "python3"
  },
  "language_info": {
   "codemirror_mode": {
    "name": "ipython",
    "version": 3
   },
   "file_extension": ".py",
   "mimetype": "text/x-python",
   "name": "python",
   "nbconvert_exporter": "python",
   "pygments_lexer": "ipython3",
   "version": "3.9.0"
  },
  "vscode": {
   "interpreter": {
    "hash": "6a2587502fa8d23364235c430508a7b3f040866912ea1b089451a150a69d2b7e"
   }
  }
 },
 "nbformat": 4,
 "nbformat_minor": 5
}
