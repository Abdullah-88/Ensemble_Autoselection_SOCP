{
 "cells": [
  {
   "cell_type": "code",
   "execution_count": null,
   "id": "a923912f",
   "metadata": {},
   "outputs": [],
   "source": [
    "# code to generate the probability matrices as input to SOCP autoselection pipeline\n",
    "# utilizes sicpy io to save the matrix\n",
    "\n",
    "import tensorflow as tf\n",
    "from tensorflow.keras.datasets import cifar10\n",
    "from tensorflow.keras.models import load_model\n",
    "import numpy as np\n",
    "from scipy import io"
   ]
  },
  {
   "cell_type": "code",
   "execution_count": null,
   "id": "bf58777b",
   "metadata": {},
   "outputs": [],
   "source": [
    "(x_train, y_train), (x_test, y_test) = cifar10.load_data()\n",
    "print(x_train.shape)\n",
    "print(x_test.shape)\n",
    "print(y_train.shape)\n",
    "print(y_test.shape)"
   ]
  },
  {
   "cell_type": "code",
   "execution_count": null,
   "id": "3d502a49",
   "metadata": {},
   "outputs": [],
   "source": [
    "count = 300\n",
    "probabilities = []\n",
    "indexed_predictions = []"
   ]
  },
  {
   "cell_type": "code",
   "execution_count": null,
   "id": "7c92da78",
   "metadata": {},
   "outputs": [],
   "source": [
    "# make sure to have the generated models in the same directory \n",
    "# matrix includes predictoins of the CNN and softmax probabilities\n",
    "for counter in range(count): \n",
    "\n",
    "    loaded_model = load_model(\"model_{}\".format(counter+1))\n",
    "\n",
    "    probs_y = loaded_model.predict(tf.expand_dims(x_train, -1))\n",
    "    probabilities.append(probs_y)\n",
    "    \n",
    "    preds_y = np.argmax(probs_y,axis=-1)\n",
    "    indexed_predictions.append(preds_y)\n",
    "    \n",
    "print('data generated')    \n",
    "probabilities_arr = np.array(probabilities)\n",
    "indexed_predictions_arr = np.array(indexed_predictions)\n",
    "\n",
    "data_probs = {'softmax_dist':probabilities_arr}\n",
    "data_preds = {'PRED_m':indexed_predictions_arr}\n",
    "\n",
    "io.savemat('RandModel_PROBs.mat',data_probs)\n",
    "io.savemat('RandModel_PRED_m.mat',data_preds)\n",
    "print('data saved')"
   ]
  }
 ],
 "metadata": {
  "kernelspec": {
   "display_name": "ninformer",
   "language": "python",
   "name": "python3"
  },
  "language_info": {
   "codemirror_mode": {
    "name": "ipython",
    "version": 3
   },
   "file_extension": ".py",
   "mimetype": "text/x-python",
   "name": "python",
   "nbconvert_exporter": "python",
   "pygments_lexer": "ipython3",
   "version": "3.9.0"
  },
  "vscode": {
   "interpreter": {
    "hash": "6a2587502fa8d23364235c430508a7b3f040866912ea1b089451a150a69d2b7e"
   }
  }
 },
 "nbformat": 4,
 "nbformat_minor": 5
}
