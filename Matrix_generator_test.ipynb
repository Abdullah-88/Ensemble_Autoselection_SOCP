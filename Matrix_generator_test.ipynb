{
 "cells": [
  {
   "cell_type": "code",
   "execution_count": null,
   "id": "044567da",
   "metadata": {},
   "outputs": [],
   "source": [
    "# code to generate the probability matrices for test phase \n",
    "import tensorflow as tf\n",
    "from tensorflow.keras.datasets import cifar10\n",
    "from tensorflow.keras.models import load_model\n",
    "import numpy as np\n",
    "from scipy import io"
   ]
  },
  {
   "cell_type": "code",
   "execution_count": null,
   "id": "fa311ead",
   "metadata": {},
   "outputs": [],
   "source": [
    "(x_train, y_train), (x_test, y_test) = cifar10.load_data()\n",
    "print(x_train.shape)\n",
    "print(x_test.shape)\n",
    "print(y_train.shape)\n",
    "print(y_test.shape)"
   ]
  },
  {
   "cell_type": "code",
   "execution_count": null,
   "id": "fc3036ea",
   "metadata": {},
   "outputs": [],
   "source": [
    "data_preds_groundtruth = {'PRED_m_ground_truth':y_train}\n",
    "io.savemat('RandModel_PRED_m_ground_truth.mat',data_preds_groundtruth)\n",
    "data_preds_groundtruth_test = {'PRED_m_test_ground_truth':y_test}\n",
    "io.savemat('RandModel_PRED_m_test_ground_truth.mat',data_preds_groundtruth_test)"
   ]
  },
  {
   "cell_type": "code",
   "execution_count": null,
   "id": "b01818bd",
   "metadata": {},
   "outputs": [],
   "source": [
    "count = 300\n",
    "probabilities_test = []\n",
    "indexed_predictions_test = []"
   ]
  },
  {
   "cell_type": "code",
   "execution_count": null,
   "id": "301d8cef",
   "metadata": {},
   "outputs": [],
   "source": [
    "for counter in range(count): \n",
    "\n",
    "    loaded_model = load_model(\"model_{}\".format(counter+1))\n",
    "\n",
    "    probs_y = loaded_model.predict(tf.expand_dims(x_test, -1))\n",
    "    probabilities_test.append(probs_y)\n",
    "    \n",
    "    preds_y = np.argmax(probs_y,axis=-1)\n",
    "    indexed_predictions_test.append(preds_y)\n",
    "    \n",
    "print('data generated')    \n",
    "probabilities_arr = np.array(probabilities_test)\n",
    "indexed_predictions_arr = np.array(indexed_predictions_test)\n",
    "\n",
    "data_probs = {'softmax_dist_test':probabilities_arr}\n",
    "data_preds = {'PRED_m_test':indexed_predictions_arr}\n",
    "\n",
    "io.savemat('RandModel_PROBs_test.mat',data_probs)\n",
    "io.savemat('RandModel_PRED_m_test.mat',data_preds)\n",
    "print('data saved')"
   ]
  }
 ],
 "metadata": {
  "kernelspec": {
   "display_name": "ninformer",
   "language": "python",
   "name": "python3"
  },
  "language_info": {
   "codemirror_mode": {
    "name": "ipython",
    "version": 3
   },
   "file_extension": ".py",
   "mimetype": "text/x-python",
   "name": "python",
   "nbconvert_exporter": "python",
   "pygments_lexer": "ipython3",
   "version": "3.9.0"
  },
  "vscode": {
   "interpreter": {
    "hash": "6a2587502fa8d23364235c430508a7b3f040866912ea1b089451a150a69d2b7e"
   }
  }
 },
 "nbformat": 4,
 "nbformat_minor": 5
}
